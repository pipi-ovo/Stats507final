{
 "cells": [
  {
   "cell_type": "code",
   "execution_count": 15,
   "id": "9907b801",
   "metadata": {},
   "outputs": [],
   "source": [
    "import numpy as np\n",
    "import pandas as pd \n",
    "from transformers import BertTokenizer, Trainer, BertForSequenceClassification, TrainingArguments\n",
    "from datasets import Dataset\n",
    "import torch\n",
    "from sklearn.model_selection import train_test_split\n",
    "from sklearn.metrics import accuracy_score"
   ]
  },
  {
   "cell_type": "code",
   "execution_count": 16,
   "id": "dafdc4b0",
   "metadata": {},
   "outputs": [
    {
     "data": {
      "text/plain": [
       "('2.6.0', '4.51.2')"
      ]
     },
     "execution_count": 16,
     "metadata": {},
     "output_type": "execute_result"
    }
   ],
   "source": [
    "import torch\n",
    "import transformers\n",
    "torch.__version__, transformers.__version__"
   ]
  },
  {
   "cell_type": "code",
   "execution_count": 17,
   "id": "1995d772",
   "metadata": {},
   "outputs": [
    {
     "data": {
      "text/plain": [
       "True"
      ]
     },
     "execution_count": 17,
     "metadata": {},
     "output_type": "execute_result"
    }
   ],
   "source": [
    "torch.backends.mps.is_available()"
   ]
  },
  {
   "cell_type": "code",
   "execution_count": 18,
   "id": "3d7026f7",
   "metadata": {},
   "outputs": [],
   "source": [
    "df = pd.read_csv('Sentences_ALLAgree.csv')\n",
    "df['label'] = df['label'].map({\"positive\": 0, \"neutral\": 1, \"negative\": 2})\n",
    "df = df.dropna(subset=['sentence', 'label'])\n",
    "\n",
    "LABEL_MAP = {\"positive\": 0, \"neutral\": 1, \"negative\": 2}"
   ]
  },
  {
   "cell_type": "code",
   "execution_count": 19,
   "id": "46a1e4e6",
   "metadata": {},
   "outputs": [],
   "source": [
    "    # 数据分割（保持原有比例）\n",
    "df_train, df_test = train_test_split(df, stratify=df['label'], test_size=0.1, random_state=42)\n",
    "df_train, df_val = train_test_split(df_train, stratify=df_train['label'], test_size=0.1, random_state=42)\n"
   ]
  },
  {
   "cell_type": "code",
   "execution_count": 20,
   "id": "da53ebce",
   "metadata": {},
   "outputs": [
    {
     "name": "stderr",
     "output_type": "stream",
     "text": [
      "Some weights of BertForSequenceClassification were not initialized from the model checkpoint at yiyanghkust/finbert-pretrain and are newly initialized: ['classifier.bias', 'classifier.weight']\n",
      "You should probably TRAIN this model on a down-stream task to be able to use it for predictions and inference.\n"
     ]
    }
   ],
   "source": [
    "#模型和分词器\n",
    "model = BertForSequenceClassification.from_pretrained('yiyanghkust/finbert-pretrain', num_labels=3)\n",
    "tokenizer = BertTokenizer.from_pretrained('yiyanghkust/finbert-pretrain')"
   ]
  },
  {
   "cell_type": "code",
   "execution_count": 21,
   "id": "d9825cb8",
   "metadata": {},
   "outputs": [],
   "source": [
    "# 定义分词函数\n",
    "def tokenize_function(examples):\n",
    "    return tokenizer(\n",
    "        examples['sentence'],\n",
    "        truncation=True,\n",
    "        padding='max_length',\n",
    "        max_length=128\n",
    "    )"
   ]
  },
  {
   "cell_type": "code",
   "execution_count": 22,
   "id": "954c5b69",
   "metadata": {},
   "outputs": [],
   "source": [
    "def compute_metrics(eval_pred):\n",
    "    predictions, labels = eval_pred\n",
    "    predictions = np.argmax(predictions, axis=1)\n",
    "    return {'accuracy' : accuracy_score(predictions, labels)}"
   ]
  },
  {
   "cell_type": "code",
   "execution_count": 23,
   "id": "5e0d724a",
   "metadata": {},
   "outputs": [
    {
     "name": "stderr",
     "output_type": "stream",
     "text": [
      "Map: 100%|██████████| 1833/1833 [00:00<00:00, 1878.69 examples/s]\n",
      "Map: 100%|██████████| 204/204 [00:00<00:00, 3161.07 examples/s]\n",
      "Map: 100%|██████████| 227/227 [00:02<00:00, 111.71 examples/s]\n"
     ]
    }
   ],
   "source": [
    "# 数据集处理\n",
    "dataset_train = Dataset.from_pandas(df_train).map(tokenize_function, batched=True)\n",
    "dataset_val = Dataset.from_pandas(df_val).map(tokenize_function, batched=True)\n",
    "dataset_test = Dataset.from_pandas(df_test).map(tokenize_function, batched=True)\n",
    "\n",
    "# 设置张量格式\n",
    "columns = ['input_ids', 'token_type_ids', 'attention_mask', 'label']\n",
    "dataset_train.set_format(type='torch', columns=columns)\n",
    "dataset_val.set_format(type='torch', columns=columns)\n",
    "dataset_test.set_format(type='torch', columns=columns)"
   ]
  },
  {
   "cell_type": "code",
   "execution_count": null,
   "id": "40af4484",
   "metadata": {},
   "outputs": [
    {
     "name": "stderr",
     "output_type": "stream",
     "text": [
      "/opt/anaconda3/envs/pidan_ovo/lib/python3.12/site-packages/transformers/training_args.py:2243: UserWarning: `use_mps_device` is deprecated and will be removed in version 5.0 of 🤗 Transformers. `mps` device will be used by default if available similar to the way `cuda` device is used.Therefore, no action from user is required. \n",
      "  warnings.warn(\n"
     ]
    }
   ],
   "source": [
    "args = TrainingArguments(\n",
    "        logging_steps=10,\n",
    "        use_mps_device=True,\n",
    "        output_dir = 'temp/',\n",
    "        eval_strategy = 'epoch',\n",
    "        save_strategy = 'epoch',\n",
    "        learning_rate=2e-5,\n",
    "        per_device_train_batch_size=32,\n",
    "        per_device_eval_batch_size=32,\n",
    "        num_train_epochs=5,\n",
    "        weight_decay=0.01,\n",
    "        load_best_model_at_end=True,\n",
    "        metric_for_best_model='accuracy',\n",
    ")\n",
    "\n",
    "trainer = Trainer(\n",
    "    model=model,                         # the instantiated 🤗 Transformers model to be trained\n",
    "    args=args,                  # training arguments, defined above\n",
    "    train_dataset=dataset_train,         # training dataset\n",
    "    eval_dataset=dataset_val,            # evaluation dataset\n",
    "    compute_metrics=compute_metrics)\n",
    "\n",
    "trainer.train()   "
   ]
  },
  {
   "cell_type": "code",
   "execution_count": null,
   "id": "900a53c0",
   "metadata": {},
   "outputs": [
    {
     "data": {
      "text/html": [],
      "text/plain": [
       "<IPython.core.display.HTML object>"
      ]
     },
     "metadata": {},
     "output_type": "display_data"
    },
    {
     "data": {
      "text/plain": [
       "{'test_loss': 0.20910438895225525,\n",
       " 'test_accuracy': 0.920704845814978,\n",
       " 'test_runtime': 5.3022,\n",
       " 'test_samples_per_second': 42.812,\n",
       " 'test_steps_per_second': 2.829}"
      ]
     },
     "execution_count": 11,
     "metadata": {},
     "output_type": "execute_result"
    }
   ],
   "source": [
    "model.eval()\n",
    "trainer.predict(dataset_test).metrics"
   ]
  },
  {
   "cell_type": "code",
   "execution_count": null,
   "id": "56b7a05a",
   "metadata": {},
   "outputs": [
    {
     "data": {
      "text/html": [],
      "text/plain": [
       "<IPython.core.display.HTML object>"
      ]
     },
     "metadata": {},
     "output_type": "display_data"
    },
    {
     "name": "stdout",
     "output_type": "stream",
     "text": [
      "测试集指标: {'test_loss': 0.20910438895225525, 'test_accuracy': 0.920704845814978, 'test_runtime': 5.06, 'test_samples_per_second': 44.862, 'test_steps_per_second': 2.964}\n"
     ]
    }
   ],
   "source": [
    "# 预测测试集并输出指标\n",
    "test_results = trainer.predict(dataset_test)\n",
    "print(\"测试集指标:\", test_results.metrics)\n"
   ]
  },
  {
   "cell_type": "code",
   "execution_count": null,
   "id": "33c38837",
   "metadata": {},
   "outputs": [
    {
     "data": {
      "image/png": "[encoded data removed]",
      "text/plain": [
       "<Figure size 640x480 with 2 Axes>"
      ]
     },
     "metadata": {},
     "output_type": "display_data"
    }
   ],
   "source": [
    "from sklearn.metrics import confusion_matrix, ConfusionMatrixDisplay\n",
    "import matplotlib.pyplot as plt\n",
    "\n",
    "# 获取预测结果\n",
    "predictions = np.argmax(test_results.predictions, axis=1)\n",
    "labels = test_results.label_ids\n",
    "\n",
    "# 生成混淆矩阵\n",
    "cm = confusion_matrix(labels, predictions)\n",
    "disp = ConfusionMatrixDisplay(\n",
    "    confusion_matrix=cm,\n",
    "    display_labels=[\"positive\", \"neutral\", \"negative\"]\n",
    ")\n",
    "disp.plot(cmap='Blues')\n",
    "plt.title(\"Confusion Matrix\")\n",
    "plt.show()\n",
    "\n"
   ]
  },
  {
   "cell_type": "code",
   "execution_count": null,
   "id": "aa99a85f",
   "metadata": {},
   "outputs": [
    {
     "name": "stderr",
     "output_type": "stream",
     "text": [
      "Some weights of BertForSequenceClassification were not initialized from the model checkpoint at yiyanghkust/finbert-pretrain and are newly initialized: ['classifier.bias', 'classifier.weight']\n",
      "You should probably TRAIN this model on a down-stream task to be able to use it for predictions and inference.\n",
      "Map: 100%|██████████| 227/227 [00:00<00:00, 1642.31 examples/s]\n"
     ]
    },
    {
     "ename": "NameError",
     "evalue": "name 'random' is not defined",
     "output_type": "error",
     "traceback": [
      "\u001b[0;31m---------------------------------------------------------------------------\u001b[0m",
      "\u001b[0;31mNameError\u001b[0m                                 Traceback (most recent call last)",
      "Cell \u001b[0;32mIn[14], line 20\u001b[0m\n\u001b[1;32m     17\u001b[0m dataset_test \u001b[38;5;241m=\u001b[39m dataset_test\u001b[38;5;241m.\u001b[39mmap(tokenize_function, batched\u001b[38;5;241m=\u001b[39m\u001b[38;5;28;01mTrue\u001b[39;00m)\n\u001b[1;32m     19\u001b[0m \u001b[38;5;66;03m# 随机抽取样本推理\u001b[39;00m\n\u001b[0;32m---> 20\u001b[0m sample_idx \u001b[38;5;241m=\u001b[39m random\u001b[38;5;241m.\u001b[39mrandint(\u001b[38;5;241m0\u001b[39m, \u001b[38;5;28mlen\u001b[39m(dataset_test)\u001b[38;5;241m-\u001b[39m\u001b[38;5;241m1\u001b[39m)\n\u001b[1;32m     21\u001b[0m sample \u001b[38;5;241m=\u001b[39m dataset_test[sample_idx]\n\u001b[1;32m     23\u001b[0m \u001b[38;5;66;03m# 确保数据在 MPS（如果预处理未正确分配）\u001b[39;00m\n",
      "\u001b[0;31mNameError\u001b[0m: name 'random' is not defined"
     ]
    }
   ],
   "source": [
    "# 加载模型并移至 MPS\n",
    "model = BertForSequenceClassification.from_pretrained('yiyanghkust/finbert-pretrain', num_labels=3)\n",
    "model.to('mps')  # 关键步骤\n",
    "\n",
    "# 数据预处理函数（强制分配到 MPS）\n",
    "def tokenize_function(examples):\n",
    "    tokenized = tokenizer(\n",
    "        examples['sentence'],\n",
    "        truncation=True,\n",
    "        padding='max_length',\n",
    "        max_length=128,\n",
    "        return_tensors=\"pt\"\n",
    "    )\n",
    "    return {k: v.to('mps') for k, v in tokenized.items()}  # 数据移至 MPS\n",
    "\n",
    "# 处理测试集\n",
    "dataset_test = dataset_test.map(tokenize_function, batched=True)\n",
    "\n",
    "# 随机抽取样本推理\n",
    "sample_idx = random.randint(0, len(dataset_test)-1)\n",
    "sample = dataset_test[sample_idx]\n",
    "\n",
    "# 确保数据在 MPS（如果预处理未正确分配）\n",
    "input_ids = sample['input_ids'].unsqueeze(0).to('mps')\n",
    "attention_mask = sample['attention_mask'].unsqueeze(0).to('mps')\n",
    "\n",
    "# 推理\n",
    "with torch.no_grad():\n",
    "    logits = model(input_ids=input_ids, attention_mask=attention_mask).logits\n",
    "predicted_label = torch.argmax(logits).item()\n",
    "\n",
    "# 输出结果\n",
    "true_label = sample['label'].item()\n",
    "label_map = {0: \"positive\", 1: \"neutral\", 2: \"negative\"}\n",
    "print(\"原文:\", df_test.iloc[sample_idx]['sentence'])\n",
    "print(\"真实标签:\", label_map[true_label])\n",
    "print(\"预测标签:\", label_map[predicted_label])"
   ]
  },
  {
   "cell_type": "code",
   "execution_count": null,
   "id": "33539d62",
   "metadata": {},
   "outputs": [
    {
     "name": "stdout",
     "output_type": "stream",
     "text": [
      "分类报告:\n",
      "               precision    recall  f1-score   support\n",
      "\n",
      "    positive       0.86      0.86      0.86       117\n",
      "     neutral       0.94      0.91      0.92       254\n",
      "    negative       0.84      0.92      0.88        51\n",
      "\n",
      "    accuracy                           0.90       422\n",
      "   macro avg       0.88      0.90      0.89       422\n",
      "weighted avg       0.90      0.90      0.90       422\n",
      "\n"
     ]
    }
   ],
   "source": [
    "from sklearn.metrics import classification_report\n",
    "\n",
    "# 生成分类报告\n",
    "report = classification_report(\n",
    "    labels, \n",
    "    predictions, \n",
    "    target_names=[\"positive\", \"neutral\", \"negative\"]\n",
    ")\n",
    "print(\"分类报告:\\n\", report)"
   ]
  },
  {
   "cell_type": "code",
   "execution_count": null,
   "id": "e52d5d8b",
   "metadata": {},
   "outputs": [
    {
     "name": "stdout",
     "output_type": "stream",
     "text": [
      "原文: \"Finnish food industry companies HK Ruokatalo and Atria will form a joint venture company called L+ñnsi-Kalkkuna to produce turkey meat .\"\n",
      "真实标签: positive\n",
      "预测标签: neutral\n",
      "---\n",
      "原文: \"Industry Investment is very interested in Glaston 's solar energy projects .\"\n",
      "真实标签: positive\n",
      "预测标签: neutral\n",
      "---\n",
      "原文: \"Our solutions are fully Arabized , and our message is that we want to become the IT partner of choice for businesses in the Near-East region .\"\n",
      "真实标签: neutral\n",
      "预测标签: positive\n",
      "---\n",
      "原文: \"As a result of the cancellation , the maximum increase of Citycon 's share capital on the basis of the convertible bonds decreased from EUR 23,383,927.80 to EUR 22,901,784.75 .\"\n",
      "真实标签: neutral\n",
      "预测标签: negative\n",
      "---\n",
      "原文: \"However , this increases signaling traffic which wastes network resources and allows fewer smartphones to connect .\"\n",
      "真实标签: negative\n",
      "预测标签: positive\n",
      "---\n"
     ]
    }
   ],
   "source": [
    "# 获取所有预测错误的样本索引\n",
    "errors = np.where(predictions != labels)[0]\n",
    "\n",
    "# 查看前 5 条错误样本\n",
    "for i in errors[:5]:\n",
    "    print(\"原文:\", df_test.iloc[i]['sentence'])\n",
    "    print(\"真实标签:\", label_map[labels[i]])\n",
    "    print(\"预测标签:\", label_map[predictions[i]])\n",
    "    print(\"---\")"
   ]
  }
 ],
 "metadata": {
  "kernelspec": {
   "display_name": "pidan_ovo",
   "language": "python",
   "name": "python3"
  },
  "language_info": {
   "codemirror_mode": {
    "name": "ipython",
    "version": 3
   },
   "file_extension": ".py",
   "mimetype": "text/x-python",
   "name": "python",
   "nbconvert_exporter": "python",
   "pygments_lexer": "ipython3",
   "version": "3.12.9"
  }
 },
 "nbformat": 4,
 "nbformat_minor": 5
}
